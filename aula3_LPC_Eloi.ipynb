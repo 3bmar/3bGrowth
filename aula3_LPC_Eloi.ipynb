{
  "nbformat": 4,
  "nbformat_minor": 0,
  "metadata": {
    "colab": {
      "name": "aula3_LPC_Eloi.ipynb",
      "provenance": [],
      "authorship_tag": "ABX9TyNqMf2AvG1fe/NXnXXtTAwe",
      "include_colab_link": true
    },
    "kernelspec": {
      "name": "python3",
      "display_name": "Python 3"
    },
    "language_info": {
      "name": "python"
    }
  },
  "cells": [
    {
      "cell_type": "markdown",
      "metadata": {
        "id": "view-in-github",
        "colab_type": "text"
      },
      "source": [
        "<a href=\"https://colab.research.google.com/github/3bmar/3bGrowth/blob/main/aula3_LPC_Eloi.ipynb\" target=\"_parent\"><img src=\"https://colab.research.google.com/assets/colab-badge.svg\" alt=\"Open In Colab\"/></a>"
      ]
    },
    {
      "cell_type": "code",
      "execution_count": 1,
      "metadata": {
        "colab": {
          "base_uri": "https://localhost:8080/"
        },
        "id": "wycjmrK-BZX7",
        "outputId": "52bea082-6aaf-4d95-fff2-4ea5159538dd"
      },
      "outputs": [
        {
          "output_type": "stream",
          "name": "stdout",
          "text": [
            "Olá, ETE Porto Digital!\n"
          ]
        }
      ],
      "source": [
        "# ETE PORTO DIGITAL\n",
        "# DISCIPLINA: LPC1\n",
        "# PROFESSOR: CLOVES\n",
        "# ESTUDANTE: ELOI\n",
        "\n",
        "print ('Olá, ETE Porto Digital!')"
      ]
    }
  ]
}